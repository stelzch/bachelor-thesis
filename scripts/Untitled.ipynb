{
 "cells": [
  {
   "cell_type": "code",
   "execution_count": 2,
   "metadata": {},
   "outputs": [
    {
     "ename": "OperationalError",
     "evalue": "unable to open database file",
     "output_type": "error",
     "traceback": [
      "\u001b[0;31m---------------------------------------------------------------------------\u001b[0m",
      "\u001b[0;31mOperationalError\u001b[0m                          Traceback (most recent call last)",
      "\u001b[0;32m<ipython-input-2-b29e4bce17f3>\u001b[0m in \u001b[0;36m<module>\u001b[0;34m\u001b[0m\n\u001b[1;32m     11\u001b[0m \u001b[0;34m\u001b[0m\u001b[0m\n\u001b[1;32m     12\u001b[0m \u001b[0mdb\u001b[0m \u001b[0;34m=\u001b[0m \u001b[0;34m'file:project/benchmarks/results.db?mode=ro'\u001b[0m\u001b[0;34m\u001b[0m\u001b[0;34m\u001b[0m\u001b[0m\n\u001b[0;32m---> 13\u001b[0;31m \u001b[0mcon\u001b[0m \u001b[0;34m=\u001b[0m \u001b[0msqlite3\u001b[0m\u001b[0;34m.\u001b[0m\u001b[0mconnect\u001b[0m\u001b[0;34m(\u001b[0m\u001b[0mdb\u001b[0m\u001b[0;34m,\u001b[0m \u001b[0muri\u001b[0m\u001b[0;34m=\u001b[0m\u001b[0;32mTrue\u001b[0m\u001b[0;34m)\u001b[0m\u001b[0;34m\u001b[0m\u001b[0;34m\u001b[0m\u001b[0m\n\u001b[0m\u001b[1;32m     14\u001b[0m \u001b[0;34m\u001b[0m\u001b[0m\n\u001b[1;32m     15\u001b[0m \u001b[0;32mdef\u001b[0m \u001b[0mscatter_plot\u001b[0m\u001b[0;34m(\u001b[0m\u001b[0mrun_id\u001b[0m\u001b[0;34m)\u001b[0m\u001b[0;34m:\u001b[0m\u001b[0;34m\u001b[0m\u001b[0;34m\u001b[0m\u001b[0m\n",
      "\u001b[0;31mOperationalError\u001b[0m: unable to open database file"
     ]
    }
   ],
   "source": [
    "import matplotlib.pyplot as plt\n",
    "import numpy as np\n",
    "import sqlite3\n",
    "from matplotlib.ticker import EngFormatter\n",
    "\n",
    "def xye(data):\n",
    "    x = list(map(lambda x: x[0], data)) # n_summands\n",
    "    y = list(map(lambda x: x[2] / 1e9, data)) # time_ns\n",
    "    e = list(map(lambda x: x[3] / 1e9, data)) # stddev\n",
    "    return x, y, e\n",
    "\n",
    "db = 'file:project/benchmarks/results.db?mode=ro'\n",
    "con = sqlite3.connect(db, uri=True)\n",
    "\n",
    "def scatter_plot(run_id):\n",
    "    settings = {\n",
    "        \"allreduce\": {\n",
    "            \"fmt\": \"bo\",\n",
    "            \"label\": \"MPI_Allreduce\",\n",
    "            \"include\": True,\n",
    "        },\n",
    "        \"tree\": {\n",
    "            \"fmt\": \"ro\",\n",
    "            \"label\": \"Tree Reduce\",\n",
    "            \"include\": True\n",
    "        },\n",
    "        \"reproblas\": {\n",
    "            \"fmt\": \"co\",\n",
    "            \"label\": \"ReproBLAS\",\n",
    "            \"include\": True\n",
    "        }\n",
    "    }\n",
    "    f = plt.figure()\n",
    "    ax = f.subplots(1)\n",
    "    ax.set_ylabel('Accumulate Time')\n",
    "    ax.set_xlabel('number of summands')\n",
    "\n",
    "    formatter0 = EngFormatter(unit='s', places=2)\n",
    "    formatter1 = EngFormatter(places=2)\n",
    "    ax.yaxis.set_major_formatter(formatter0)\n",
    "    ax.xaxis.set_major_formatter(formatter1)\n",
    "\n",
    "    for mode, v in settings.items():\n",
    "        if not v[\"include\"]:\n",
    "            continue\n",
    "\n",
    "        fetch_data(mode)\n",
    "        data = cur.fetchall()\n",
    "        display(HTML(f\"<h4>{mode}</h4>\"))\n",
    "        display_result(cur, data)\n",
    "\n",
    "        ar_x, ar_y, ar_error = xye(data)\n",
    "        ax.errorbar(ar_x, ar_y, yerr=ar_error, fmt=v[\"fmt\"], label=v[\"label\"], capsize=4.0)\n",
    "\n",
    "        ticks = []\n",
    "        for x in ar_x:\n",
    "            lastX = ticks[-1] if len(ticks) > 0 else -1e10\n",
    "            if x - lastX > 2e6:\n",
    "                ticks.append(x)\n",
    "        ax.xaxis.set_ticks(ticks)\n",
    "\n",
    "    ax.legend(loc='upper left')\n",
    "\n",
    "    ax.set_xlim(left=0)\n",
    "    #ax.set_ylim(bottom=0)\n",
    "\n",
    "    plt.show()\n",
    "\n",
    "scatter_plot(69)"
   ]
  },
  {
   "cell_type": "code",
   "execution_count": null,
   "metadata": {},
   "outputs": [],
   "source": []
  }
 ],
 "metadata": {
  "kernelspec": {
   "display_name": "Python 3",
   "language": "python",
   "name": "python3"
  },
  "language_info": {
   "codemirror_mode": {
    "name": "ipython",
    "version": 3
   },
   "file_extension": ".py",
   "mimetype": "text/x-python",
   "name": "python",
   "nbconvert_exporter": "python",
   "pygments_lexer": "ipython3",
   "version": "3.8.10"
  }
 },
 "nbformat": 4,
 "nbformat_minor": 4
}
